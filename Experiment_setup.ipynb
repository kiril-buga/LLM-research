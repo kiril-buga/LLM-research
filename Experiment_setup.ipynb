{
 "cells": [
  {
   "cell_type": "code",
   "id": "initial_id",
   "metadata": {
    "collapsed": true,
    "ExecuteTime": {
     "end_time": "2025-05-02T12:38:40.303843Z",
     "start_time": "2025-05-02T12:38:38.507524Z"
    }
   },
   "source": [
    "from function_registry import FunctionRegistry\n",
    "import os\n",
    "from langchain_cerebras import ChatCerebras\n",
    "from dotenv import load_dotenv\n",
    "# Set up the environment\n",
    "from langchain.chat_models import init_chat_model\n",
    "\n",
    "load_dotenv()\n",
    "llm = ChatCerebras(\n",
    "    model=\"llama-3.3-70b\",\n",
    "    api_key=os.getenv(\"CEREBRAS_API_KEY\")\n",
    ")"
   ],
   "outputs": [],
   "execution_count": 3
  },
  {
   "metadata": {
    "ExecuteTime": {
     "end_time": "2025-05-02T12:38:40.361835Z",
     "start_time": "2025-05-02T12:38:40.349398Z"
    }
   },
   "cell_type": "code",
   "source": [
    "from parser import GoogleParser\n",
    "import ai_functions\n",
    "\n",
    "registry = FunctionRegistry(docstring_parser=GoogleParser())\n",
    "registry.register_decorated_functions()\n",
    "tools = registry.get_tools()\n",
    "print(f\"Tools: {tools}\")\n",
    "print(f\"Registered {len(tools)} tools\")"
   ],
   "id": "ba3ebe6def91dc6a",
   "outputs": [
    {
     "name": "stdout",
     "output_type": "stream",
     "text": [
      "Tools: [{'type': 'function', 'function': {'name': 'calculate_m2_for_asset_components', 'description': 'calculate the square meters of an asset component', 'parameters': {'type': 'object', 'properties': {'asset_component_type': {'type': 'string', 'enum': ['IfcWindow', 'IfcDoor'], 'description': 'the ifc standard component type'}, 'floor': {'type': 'string', 'enum': ['1. Obergeschoss', '2. Obergeschoss', 'Erdgeschoss', 'Dachgeschoss', 'Untergeschoss'], 'description': 'floor of the building where the asset component is located'}}, 'required': []}}}]\n",
      "Registered 1 tools\n"
     ]
    }
   ],
   "execution_count": 4
  },
  {
   "metadata": {
    "ExecuteTime": {
     "end_time": "2025-04-24T11:25:38.333805Z",
     "start_time": "2025-04-24T11:25:38.327696Z"
    }
   },
   "cell_type": "code",
   "source": [
    "from pydantic import BaseModel, Field\n",
    "\n",
    "\n",
    "class ResponseFormatter(BaseModel):\n",
    "    \"\"\"Always use this tool to structure your response to the user.\"\"\"\n",
    "    answer: str = Field(description=\"The answer to the user's question\")\n",
    "    sql_query: str = Field(description=\"SQl query to get the answer\")\n",
    "\n",
    "\n",
    "model_with_tools = llm.bind_tools([ResponseFormatter])"
   ],
   "id": "7364e5472ad5d744",
   "outputs": [],
   "execution_count": 3
  },
  {
   "metadata": {
    "ExecuteTime": {
     "end_time": "2025-04-24T11:25:40.219506Z",
     "start_time": "2025-04-24T11:25:39.513959Z"
    }
   },
   "cell_type": "code",
   "source": "model_with_tools.invoke(\"How wide are windows in the Facility #3?\")",
   "id": "2db77fe875fb585c",
   "outputs": [
    {
     "data": {
      "text/plain": [
       "AIMessage(content='', additional_kwargs={'tool_calls': [{'id': '83603284c', 'function': {'arguments': '{\"answer\": \"The width of the windows in Facility #3 is unknown\", \"sql_query\": \"SELECT width FROM facility_windows WHERE facility_id = 3\"}', 'name': 'ResponseFormatter'}, 'type': 'function'}], 'refusal': None}, response_metadata={'token_usage': {'completion_tokens': 36, 'prompt_tokens': 278, 'total_tokens': 314, 'completion_tokens_details': None, 'prompt_tokens_details': None}, 'model_name': 'llama-3.3-70b', 'system_fingerprint': 'fp_a4e4dbcbd01d96252206', 'id': 'chatcmpl-b12fe2e3-7a00-4deb-9ee6-c673dcc4597c', 'finish_reason': 'tool_calls', 'logprobs': None}, id='run-60f7dbeb-283b-4325-9c66-c70e9e3fe0e9-0', tool_calls=[{'name': 'ResponseFormatter', 'args': {'answer': 'The width of the windows in Facility #3 is unknown', 'sql_query': 'SELECT width FROM facility_windows WHERE facility_id = 3'}, 'id': '83603284c', 'type': 'tool_call'}], usage_metadata={'input_tokens': 278, 'output_tokens': 36, 'total_tokens': 314, 'input_token_details': {}, 'output_token_details': {}})"
      ]
     },
     "execution_count": 4,
     "metadata": {},
     "output_type": "execute_result"
    }
   ],
   "execution_count": 4
  },
  {
   "metadata": {},
   "cell_type": "code",
   "outputs": [],
   "execution_count": null,
   "source": "",
   "id": "650d01d56ce8718b"
  }
 ],
 "metadata": {
  "kernelspec": {
   "display_name": "Python 3",
   "language": "python",
   "name": "python3"
  },
  "language_info": {
   "codemirror_mode": {
    "name": "ipython",
    "version": 2
   },
   "file_extension": ".py",
   "mimetype": "text/x-python",
   "name": "python",
   "nbconvert_exporter": "python",
   "pygments_lexer": "ipython2",
   "version": "2.7.6"
  }
 },
 "nbformat": 4,
 "nbformat_minor": 5
}
