{
 "cells": [
  {
   "cell_type": "code",
   "id": "initial_id",
   "metadata": {
    "collapsed": true,
    "ExecuteTime": {
     "end_time": "2025-06-01T20:20:46.027424Z",
     "start_time": "2025-06-01T20:20:43.684796Z"
    }
   },
   "source": [
    "from langchain.prompts import Prompt\n",
    "from langchain_core.prompts import PromptTemplate\n",
    "\n",
    "# from function_registry import FunctionRegistry\n",
    "import os\n",
    "from langchain_cerebras import ChatCerebras\n",
    "from dotenv import load_dotenv\n",
    "# Set up the environment\n",
    "from langchain.chat_models import init_chat_model\n",
    "\n",
    "load_dotenv()\n",
    "\n",
    "llm = ChatCerebras(\n",
    "    model=\"llama-3.3-70b\",\n",
    "    api_key=os.getenv(\"CEREBRAS_API_KEY\")\n",
    ")"
   ],
   "outputs": [],
   "execution_count": 1
  },
  {
   "metadata": {
    "ExecuteTime": {
     "end_time": "2025-06-01T20:20:46.242996Z",
     "start_time": "2025-06-01T20:20:46.238441Z"
    }
   },
   "cell_type": "code",
   "source": [
    "from typing_extensions import TypedDict\n",
    "\n",
    "\n",
    "class State(TypedDict):\n",
    "    question: str\n",
    "    query: str\n",
    "    result: str\n",
    "    answer: str"
   ],
   "id": "9da9fabbd49fe967",
   "outputs": [],
   "execution_count": 2
  },
  {
   "metadata": {
    "ExecuteTime": {
     "end_time": "2025-06-01T20:20:46.270589Z",
     "start_time": "2025-06-01T20:20:46.254565Z"
    }
   },
   "cell_type": "code",
   "source": [
    "# This is a workaround to get the function signature\n",
    "from langchain.tools import Tool\n",
    "from pydantic import BaseModel, Field\n",
    "from functools import partial\n",
    "\n",
    "\n",
    "# Tools in LangChain-Format bringen\n",
    "def make_tool_wrapper(fn_name):\n",
    "    def _run(*args, **kwargs):\n",
    "        # Positional Dict -> kwargs\n",
    "        if args and isinstance(args[0], dict):\n",
    "            kwargs = args[0]\n",
    "        return registry.call_function(fn_name, **kwargs)\n",
    "\n",
    "    return _run\n",
    "\n",
    "\n",
    "# Generates SQL queries and returns them as a string\n",
    "class ResponseFormatter(BaseModel):\n",
    "    \"\"\"Always use this tool to structure your response to the user.\"\"\"\n",
    "    answer: str = Field(description=\"The answer to the user's question\")\n",
    "    sql_query: str = Field(description=\"SQl query to get the answer\")"
   ],
   "id": "610ca32ab7a44b24",
   "outputs": [],
   "execution_count": 3
  },
  {
   "metadata": {
    "ExecuteTime": {
     "end_time": "2025-06-01T20:20:46.795059Z",
     "start_time": "2025-06-01T20:20:46.284761Z"
    }
   },
   "cell_type": "code",
   "source": [
    "from langchain_core.prompts import ChatPromptTemplate\n",
    "from langchain_core.messages import HumanMessage, SystemMessage\n",
    "from langgraph.prebuilt import create_react_agent\n",
    "from langgraph.prebuilt.chat_agent_executor import AgentState\n",
    "\n",
    "query = \"Wie gross ist die Fensterfläche im 2. Obergeschoss?\"\n",
    "# agent = create_react_agent(llm=llm, tools=tools, prompt=prompt)\n",
    "# response = agent.invoke(\"Wie gross ist die Fensterfläche im 2. Obergeschoss?\")\n",
    "\n",
    "query_prompt_template = ChatPromptTemplate.from_messages(\n",
    "    [\n",
    "        (\"system\",\n",
    "         \"You are a helpful facility management assistant. Your task is to answer questions about facility management.\"\n",
    "         ),\n",
    "        # Placeholders fill up a **list** of messages\n",
    "        (\"user\", \"{input}\"),\n",
    "    ]\n",
    ")\n",
    "tools = [ResponseFormatter]\n",
    "# langgraph_agent_executor = create_react_agent(llm, tools, prompt=prompt)\n",
    "# messages = langgraph_agent_executor.invoke(\n",
    "#     {\"messages\": [(\"user\", query)]},\n",
    "# )\n",
    "# print(messages[\"messages\"][-1])\n",
    "\n",
    "model_with_tools = llm.bind_tools(tools, tool_choice='required')\n",
    "print(model_with_tools.invoke(query))"
   ],
   "id": "1b6826c90e9bc9ff",
   "outputs": [
    {
     "name": "stdout",
     "output_type": "stream",
     "text": [
      "content='' additional_kwargs={'tool_calls': [{'id': '390b39fb4', 'function': {'arguments': '{\"answer\": \"Die Fensterfl\\\\u00e4che im 2. Obergeschoss kann nicht ohne weitere Informationen berechnet werden.\", \"sql_query\": \"SELECT * FROM Fenster WHERE Etage = 2\"}', 'name': 'ResponseFormatter'}, 'type': 'function'}], 'refusal': None} response_metadata={'token_usage': {'completion_tokens': 46, 'prompt_tokens': 246, 'total_tokens': 292, 'completion_tokens_details': None, 'prompt_tokens_details': {'audio_tokens': None, 'cached_tokens': 0}}, 'model_name': 'llama-3.3-70b', 'system_fingerprint': 'fp_55092e95d6cc4a5b1785', 'id': 'chatcmpl-f7c6fb0f-d2f3-4a92-96e2-b1005455f775', 'service_tier': None, 'finish_reason': 'tool_calls', 'logprobs': None} id='run--2285e8cb-f3e3-4590-9580-57ae1ac529c2-0' tool_calls=[{'name': 'ResponseFormatter', 'args': {'answer': 'Die Fensterfläche im 2. Obergeschoss kann nicht ohne weitere Informationen berechnet werden.', 'sql_query': 'SELECT * FROM Fenster WHERE Etage = 2'}, 'id': '390b39fb4', 'type': 'tool_call'}] usage_metadata={'input_tokens': 246, 'output_tokens': 46, 'total_tokens': 292, 'input_token_details': {'cache_read': 0}, 'output_token_details': {}}\n"
     ]
    }
   ],
   "execution_count": 4
  },
  {
   "metadata": {
    "ExecuteTime": {
     "end_time": "2025-06-01T20:20:47.786214Z",
     "start_time": "2025-06-01T20:20:46.812995Z"
    }
   },
   "cell_type": "code",
   "source": [
    "from sqlalchemy import create_engine, inspect\n",
    "from langchain.sql_database import SQLDatabase\n",
    "\n",
    "# DB CONNECTION\n",
    "# SQLAlchemy Engine\n",
    "engine = create_engine(\n",
    "    f\"postgresql+psycopg2://{os.getenv('DB_USER')}:{os.getenv('DB_PASSWORD')}@{os.getenv('DB_HOST')}:5432/{os.getenv('DB_NAME')}\")\n",
    "db = SQLDatabase(engine, schema=\"public\")"
   ],
   "id": "50f88c68ae1bdf55",
   "outputs": [],
   "execution_count": 5
  },
  {
   "metadata": {
    "ExecuteTime": {
     "end_time": "2025-06-01T20:20:56.162838Z",
     "start_time": "2025-06-01T20:20:47.799702Z"
    }
   },
   "cell_type": "code",
   "source": [
    "from typing_extensions import Annotated\n",
    "\n",
    "\n",
    "class QueryOutput(TypedDict):\n",
    "    \"\"\"Generated SQL query.\"\"\"\n",
    "\n",
    "    query: Annotated[str, ..., \"Syntactically valid SQL query.\"]\n",
    "\n",
    "\n",
    "# def get_table_info_with_schema(db: SQLDatabase) -> str:\n",
    "#     \"\"\"Return fully-qualified table and column info with schema.\"\"\"\n",
    "#     tables = db.get_usable_table_names()\n",
    "#     result = []\n",
    "#     for table in tables:\n",
    "#         columns = db.get_table_(table)\n",
    "#         column_info = \", \".join([f\"{c.name} ({c.type})\" for c in columns])\n",
    "#         result.append(f\"Table public.{table}: {column_info}\")\n",
    "#     return \"\\n\".join(result)\n",
    "\n",
    "def write_query(state: State):\n",
    "    \"\"\"Generate SQL query to fetch information.\"\"\"\n",
    "    prompt = query_prompt_template.invoke(\n",
    "        {\n",
    "            \"dialect\": db.dialect,\n",
    "            \"top_k\": 10,\n",
    "            \"table_info\": db.get_table_info(),\n",
    "            \"table_names\": [f\"public.{name}\" for name in db.get_usable_table_names()],\n",
    "            \"input\": state[\"question\"],\n",
    "        }\n",
    "    )\n",
    "    structured_llm = llm.with_structured_output(QueryOutput)\n",
    "    result = structured_llm.invoke(prompt)\n",
    "    if result is None or not isinstance(result, dict):\n",
    "        print(\"⚠️ LLM failed to produce structured output. Trying raw output.\")\n",
    "        print(\"Raw LLM Output:\\n\", result)\n",
    "        raise ValueError(\"Structured output failed.\")\n",
    "\n",
    "    return {\"query\": result[\"query\"]}\n",
    "\n",
    "\n",
    "write_query({\"question\": \"How many asset_component are there?\"})"
   ],
   "id": "bd191055bd16ec5",
   "outputs": [
    {
     "name": "stderr",
     "output_type": "stream",
     "text": [
      "C:\\Users\\Kiril\\PycharmProjects\\LLM-research\\venv\\Lib\\site-packages\\langchain_community\\utilities\\sql_database.py:338: SAWarning: Cannot correctly sort tables; there are unresolvable cycles between tables \"public.contact, public.facility, public.idp_template, public.model, public.project\", which is usually caused by mutually dependent foreign key constraints.  Foreign key constraints involving these tables will not be considered; this warning may raise an error in a future release.\n",
      "  metadata_table_names = [tbl.name for tbl in self._metadata.sorted_tables]\n",
      "C:\\Users\\Kiril\\PycharmProjects\\LLM-research\\venv\\Lib\\site-packages\\langchain_community\\utilities\\sql_database.py:350: SAWarning: Cannot correctly sort tables; there are unresolvable cycles between tables \"public.contact, public.facility, public.idp_template, public.model, public.project\", which is usually caused by mutually dependent foreign key constraints.  Foreign key constraints involving these tables will not be considered; this warning may raise an error in a future release.\n",
      "  for tbl in self._metadata.sorted_tables\n"
     ]
    },
    {
     "data": {
      "text/plain": [
       "{'query': 'SELECT COUNT(*) FROM asset_component'}"
      ]
     },
     "execution_count": 6,
     "metadata": {},
     "output_type": "execute_result"
    }
   ],
   "execution_count": 6
  },
  {
   "metadata": {
    "ExecuteTime": {
     "end_time": "2025-06-01T20:20:56.248201Z",
     "start_time": "2025-06-01T20:20:56.184198Z"
    }
   },
   "cell_type": "code",
   "source": [
    "from langchain_community.tools.sql_database.tool import QuerySQLDatabaseTool\n",
    "\n",
    "\n",
    "def execute_query(state: State):\n",
    "    \"\"\"Execute SQL query.\"\"\"\n",
    "    execute_query_tool = QuerySQLDatabaseTool(db=db)\n",
    "    return {\"result\": execute_query_tool.invoke(state[\"query\"])}\n",
    "\n",
    "\n",
    "execute_query({\"query\": \"SELECT COUNT(*) FROM public.asset_component\"})"
   ],
   "id": "7364e5472ad5d744",
   "outputs": [
    {
     "data": {
      "text/plain": [
       "{'result': '[(14021,)]'}"
      ]
     },
     "execution_count": 7,
     "metadata": {},
     "output_type": "execute_result"
    }
   ],
   "execution_count": 7
  },
  {
   "metadata": {
    "ExecuteTime": {
     "end_time": "2025-06-01T20:20:56.318068Z",
     "start_time": "2025-06-01T20:20:56.313149Z"
    }
   },
   "cell_type": "code",
   "source": [
    "def generate_answer(state: State):\n",
    "    \"\"\"Answer question using retrieved information as context.\"\"\"\n",
    "    prompt = (\n",
    "        \"Given the following user question, corresponding SQL query, \"\n",
    "        \"and SQL result, answer the user question.\\n\\n\"\n",
    "        f'Question: {state[\"question\"]}\\n'\n",
    "        f'SQL Query: {state[\"query\"]}\\n'\n",
    "        f'SQL Result: {state[\"result\"]}'\n",
    "    )\n",
    "    response = llm.invoke(prompt)\n",
    "    return {\"answer\": response.content}\n",
    "\n"
   ],
   "id": "2db77fe875fb585c",
   "outputs": [],
   "execution_count": 8
  },
  {
   "metadata": {
    "ExecuteTime": {
     "end_time": "2025-06-01T20:20:56.433622Z",
     "start_time": "2025-06-01T20:20:56.331560Z"
    }
   },
   "cell_type": "code",
   "source": [
    "from langgraph.graph import START, StateGraph\n",
    "\n",
    "graph_builder = StateGraph(State).add_sequence(\n",
    "    [write_query, execute_query, generate_answer]\n",
    ")\n",
    "graph_builder.add_edge(START, \"write_query\")\n",
    "graph = graph_builder.compile()\n",
    "\n",
    "from IPython.display import Image, display\n",
    "\n",
    "display(Image(graph.get_graph().draw_mermaid_png()))"
   ],
   "id": "c696e52592851e34",
   "outputs": [
    {
     "data": {
      "image/png": "[encoded data removed]",
      "text/plain": [
       "<IPython.core.display.Image object>"
      ]
     },
     "metadata": {},
     "output_type": "display_data"
    }
   ],
   "execution_count": 9
  },
  {
   "metadata": {
    "ExecuteTime": {
     "end_time": "2025-06-01T20:23:12.151105Z",
     "start_time": "2025-06-01T20:23:03.848188Z"
    }
   },
   "cell_type": "code",
   "source": [
    "question = \"Wie viele Assetkomponenten es gibt? DIE TABELLE heisst asset_component\"\n",
    "\n",
    "for step in graph.stream(\n",
    "        {\"question\": question}, stream_mode=\"updates\"\n",
    "):\n",
    "    print(step)"
   ],
   "id": "760617a16e9b59a5",
   "outputs": [
    {
     "name": "stderr",
     "output_type": "stream",
     "text": [
      "C:\\Users\\Kiril\\PycharmProjects\\LLM-research\\venv\\Lib\\site-packages\\langchain_community\\utilities\\sql_database.py:338: SAWarning: Cannot correctly sort tables; there are unresolvable cycles between tables \"public.contact, public.facility, public.idp_template, public.model, public.project\", which is usually caused by mutually dependent foreign key constraints.  Foreign key constraints involving these tables will not be considered; this warning may raise an error in a future release.\n",
      "  metadata_table_names = [tbl.name for tbl in self._metadata.sorted_tables]\n",
      "C:\\Users\\Kiril\\PycharmProjects\\LLM-research\\venv\\Lib\\site-packages\\langchain_community\\utilities\\sql_database.py:350: SAWarning: Cannot correctly sort tables; there are unresolvable cycles between tables \"public.contact, public.facility, public.idp_template, public.model, public.project\", which is usually caused by mutually dependent foreign key constraints.  Foreign key constraints involving these tables will not be considered; this warning may raise an error in a future release.\n",
      "  for tbl in self._metadata.sorted_tables\n"
     ]
    },
    {
     "name": "stdout",
     "output_type": "stream",
     "text": [
      "{'write_query': {'query': 'SELECT COUNT(*) FROM asset_component'}}\n",
      "{'execute_query': {'result': '[(14021,)]'}}\n",
      "{'generate_answer': {'answer': 'Es gibt 14.021 Assetkomponenten in der Tabelle \"asset_component\".'}}\n"
     ]
    }
   ],
   "execution_count": 16
  },
  {
   "metadata": {
    "ExecuteTime": {
     "end_time": "2025-06-01T20:21:04.782889Z",
     "start_time": "2025-06-01T20:21:04.780759Z"
    }
   },
   "cell_type": "code",
   "source": "",
   "id": "751567aeeee855c5",
   "outputs": [],
   "execution_count": null
  }
 ],
 "metadata": {
  "kernelspec": {
   "display_name": "Python 3",
   "language": "python",
   "name": "python3"
  },
  "language_info": {
   "codemirror_mode": {
    "name": "ipython",
    "version": 2
   },
   "file_extension": ".py",
   "mimetype": "text/x-python",
   "name": "python",
   "nbconvert_exporter": "python",
   "pygments_lexer": "ipython2",
   "version": "2.7.6"
  }
 },
 "nbformat": 4,
 "nbformat_minor": 5
}
